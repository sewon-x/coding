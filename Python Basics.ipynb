{
 "cells": [
  {
   "cell_type": "code",
   "execution_count": 20,
   "id": "96a6d32c-9ae0-4c16-b64d-a8fb1d2eb296",
   "metadata": {},
   "outputs": [
    {
     "output_type": "stream",
     "name": "stdout",
     "text": [
      "Thiss Kooc is an excellent course\nCoutse name \nis Practical Python\nThose who don't take this Kooc would regret their decision\n"
     ]
    }
   ],
   "source": [
    "print('Thiss Kooc is an excellent course')\n",
    "print('Coutse name \\nis Practical Python')\n",
    "print(\"Those who don't take this Kooc would regret their decision\")"
   ]
  },
  {
   "cell_type": "code",
   "execution_count": 21,
   "metadata": {},
   "outputs": [
    {
     "output_type": "stream",
     "name": "stdout",
     "text": [
      "True\nFalse\n<class 'bool'> True\n"
     ]
    }
   ],
   "source": [
    "print(7>3)\n",
    "print(3>7)\n",
    "x = 7>3\n",
    "print(type(x),x)"
   ]
  },
  {
   "cell_type": "code",
   "execution_count": 22,
   "metadata": {},
   "outputs": [
    {
     "output_type": "execute_result",
     "data": {
      "text/plain": [
       "'Triple quoted strings are used to write multiple line strings.\\nThis is an example of a doc string.'"
      ]
     },
     "metadata": {},
     "execution_count": 22
    }
   ],
   "source": [
    "# 여러줄의 문장을 메모하고 싶으면 \"\"\"기호 사용\n",
    "\"\"\"Triple quoted strings are used to write multiple line strings.\n",
    "This is an example of a doc string.\"\"\""
   ]
  },
  {
   "cell_type": "code",
   "execution_count": 23,
   "metadata": {},
   "outputs": [
    {
     "output_type": "execute_result",
     "data": {
      "text/plain": [
       "'I like you\\nyou like me\\n'"
      ]
     },
     "metadata": {},
     "execution_count": 23
    }
   ],
   "source": [
    "\"\"\"I like you\n",
    "you like me\n",
    "\"\"\""
   ]
  },
  {
   "source": [
    "your_name = input('What is your name?')\n",
    "print(your_name,type(your_name))"
   ],
   "cell_type": "code",
   "metadata": {},
   "execution_count": 25,
   "outputs": [
    {
     "output_type": "stream",
     "name": "stdout",
     "text": [
      "chltpdns <class 'str'>\n"
     ]
    }
   ]
  },
  {
   "cell_type": "code",
   "execution_count": 26,
   "metadata": {},
   "outputs": [
    {
     "output_type": "stream",
     "name": "stdout",
     "text": [
      "20 <class 'str'>\n"
     ]
    }
   ],
   "source": [
    "your_age=input('How old are you?')\n",
    "print(your_age,type(your_age))"
   ]
  },
  {
   "cell_type": "code",
   "execution_count": 27,
   "metadata": {},
   "outputs": [
    {
     "output_type": "stream",
     "name": "stdout",
     "text": [
      "2010\n"
     ]
    }
   ],
   "source": [
    "my_age=input('How old am I?')\n",
    "print(your_age + my_age)\n",
    "#string concatenation"
   ]
  },
  {
   "cell_type": "code",
   "execution_count": 28,
   "metadata": {},
   "outputs": [
    {
     "output_type": "stream",
     "name": "stdout",
     "text": [
      "30\n"
     ]
    },
    {
     "output_type": "execute_result",
     "data": {
      "text/plain": [
       "21"
      ]
     },
     "metadata": {},
     "execution_count": 28
    }
   ],
   "source": [
    "print(int(your_age)+int(my_age))\n",
    "int(21.8)\n",
    "# string을 int로 바꾸면 사칙연산가능"
   ]
  }
 ],
 "metadata": {
  "kernelspec": {
   "name": "python3710jvsc74a57bd0da269db3fcd4734a464f4ca55dfd18bbf7bcc179e069688b6c62cb59db4ace87",
   "display_name": "Python 3.7.10 64-bit ('tensorflow': conda)"
  },
  "language_info": {
   "codemirror_mode": {
    "name": "ipython",
    "version": 3
   },
   "file_extension": ".py",
   "mimetype": "text/x-python",
   "name": "python",
   "nbconvert_exporter": "python",
   "pygments_lexer": "ipython3",
   "version": "3.7.10"
  }
 },
 "nbformat": 4,
 "nbformat_minor": 5
}